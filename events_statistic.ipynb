{
 "cells": [
  {
   "cell_type": "code",
   "execution_count": 1,
   "metadata": {},
   "outputs": [
    {
     "name": "stdout",
     "output_type": "stream",
     "text": [
      "Welcome to JupyROOT 6.12/06\n"
     ]
    }
   ],
   "source": [
    "import ROOT\n",
    "from root_numpy import root2array, tree2array, root2rec, testdata\n",
    "import glob\n",
    "import numpy as np\n",
    "import matplotlib.pyplot as plt\n",
    "import pandas as pd\n",
    "from scipy.optimize import minimize # MINIMIZATION"
   ]
  },
  {
   "cell_type": "markdown",
   "metadata": {},
   "source": [
    "## Prepare data structure and functions for single tracking"
   ]
  },
  {
   "cell_type": "markdown",
   "metadata": {},
   "source": [
    "### Line"
   ]
  },
  {
   "cell_type": "code",
   "execution_count": 2,
   "metadata": {},
   "outputs": [],
   "source": [
    "class Line:\n",
    "    def __init__(self, x=0, y=0, z=0, dx=0, dy=0, dz=0, point=[], direction=[], params=[], det_id=0):\n",
    "        if len(params) == 6:\n",
    "            self.x,  self.y,  self.z  = params[:3] \n",
    "            self.dx, self.dy, self.dz = params[3:]\n",
    "        elif len(point) == 3 and len(direction) == 3:\n",
    "            self.x,  self.y,  self.z  = point\n",
    "            self.dx, self.dy, self.dz = direction\n",
    "        else:\n",
    "            self.x,  self.y,  self.z  =  x,  y,  z\n",
    "            self.dx, self.dy, self.dz = dx, dy, dz\n",
    "        \n",
    "        # just to make this line a detector Line\n",
    "        self.det_id = int(det_id)\n",
    "\n",
    "    def __repr__(self):\n",
    "        return \"Line: det = {}\\t p = ({:.3f}, {:.3f}, {:.3f})\\t v = [{:.3f}, {:.3f}, {:.3f}]\".format(\n",
    "            self.det_id, self.x, self.y, self.z, self.dx, self.dy, self.dz\n",
    "        )\n",
    "            \n",
    "    def distance(self, other):\n",
    "        n_vector = np.cross(self.line_vector(), other.line_vector())\n",
    "        s_o_vector = np.array([self.x - other.x, self.y - other.y, self.z - other.z])\n",
    "        return np.linalg.norm( np.dot(n_vector, s_o_vector) ) / np.linalg.norm(n_vector)\n",
    "\n",
    "    def line_vector(self):\n",
    "        return np.array([self.dx, self.dy, self.dz])"
   ]
  },
  {
   "cell_type": "markdown",
   "metadata": {},
   "source": [
    "### Open root file"
   ]
  },
  {
   "cell_type": "code",
   "execution_count": 3,
   "metadata": {},
   "outputs": [],
   "source": [
    "geometry_root = root2array('det_geometry.root', 'T')\n",
    "reco_flat = root2array('reco_0_flat.root', 'T')"
   ]
  },
  {
   "cell_type": "markdown",
   "metadata": {},
   "source": [
    "### Prepare dataframes"
   ]
  },
  {
   "cell_type": "code",
   "execution_count": 4,
   "metadata": {},
   "outputs": [
    {
     "name": "stdout",
     "output_type": "stream",
     "text": [
      "all tracks shape: (5542, 10)\n",
      "single tracking shape: (5097, 10)\n"
     ]
    }
   ],
   "source": [
    "geom_df = pd.DataFrame(geometry_root) \n",
    "df_all  = pd.DataFrame(reco_flat)\n",
    "\n",
    "# single_df - data frame with hits which belong to single tracking\n",
    "single_df = df_all.loc[(df_all['uLineSize'] == 1) & (df_all['vLineSize'] == 1)]\n",
    "\n",
    "rp_groups = {\n",
    "    1 : [4, 20, 24],\n",
    "    2 : [5, 21, 25],\n",
    "    3 : [3, 22, 23],\n",
    "    4 : [104, 120, 124],\n",
    "    5 : [105, 121, 125],\n",
    "    6 : [103, 122, 123]\n",
    "}\n",
    "\n",
    "print(\"all tracks shape: {}\".format(df_all.shape))\n",
    "print(\"single tracking shape: {}\".format(single_df.shape))\n",
    "\n",
    "\n",
    "'''\n",
    "single_groups_df:\n",
    "    - contains hits for single tracking where each rp from group [top|hor|bot] was hit\n",
    "    - contains columns: 'eventID', 'groupID', 'counts'\n",
    "        * groupID - [1-6] id of group to which belong rpID of given hit\n",
    "        * counts - how many rp's from group was hit\n",
    "'''\n",
    "\n",
    "single_groups_df = single_df[['eventID', 'groupID', 'rpID']]\\\n",
    "    .drop_duplicates()\\\n",
    "    .groupby(['eventID', 'groupID'])\\\n",
    "    .size()\\\n",
    "    .reset_index(name='counts')\n",
    "\n",
    "single_groups_df = single_groups_df.loc[(single_groups_df['counts'] == 3)]"
   ]
  },
  {
   "cell_type": "markdown",
   "metadata": {},
   "source": [
    "### Hit lines from dataframes\n",
    "Needed: geometry of detectors and hit positions"
   ]
  },
  {
   "cell_type": "code",
   "execution_count": 5,
   "metadata": {},
   "outputs": [],
   "source": [
    "DET_Z_TRANSLATION = 0 # SET WITHIN EVENT PROCESSING\n",
    "\n",
    "def get_hit_lines(single_hits_df, geom_df):\n",
    "    '''\n",
    "        reco_0_flat.root:     recoID  eventID  armID  groupID  rpID  uLineSize  vLineSize  siliconID   position  sigma_\n",
    "        det_geometry.root:    detId   x        y      z        dx    dy\n",
    "    '''\n",
    "    \n",
    "    hit_lines = []\n",
    "\n",
    "    for h_index, h_row in single_hits_df.iterrows():\n",
    "        \n",
    "        h_position = h_row['position']\n",
    "        det_ID = 10 * h_row['rpID'] + h_row['siliconID']        \n",
    "        det_info = geom_df.loc[(geom_df['detId'] == det_ID)].iloc[0]\n",
    "\n",
    "        x = det_info['x'] + h_position * det_info['dx']  # x [mm]\n",
    "        y = det_info['y'] + h_position * det_info['dy']  # y [mm] \n",
    "        \n",
    "        z = det_info['z'] * 1000 + DET_Z_TRANSLATION     # z [mm] with translation to operate on smaller numbers\n",
    "        dx = det_info['dx']  \n",
    "        dy = det_info['dy'] \n",
    "        dz = 0\n",
    "        \n",
    "        new_line = Line(x, y, z, dx, dy, dz, det_id=det_ID)\n",
    "        hit_lines.append(new_line)\n",
    "        \n",
    "    return hit_lines"
   ]
  },
  {
   "cell_type": "markdown",
   "metadata": {},
   "source": [
    "### Printing fitting solution"
   ]
  },
  {
   "cell_type": "code",
   "execution_count": 6,
   "metadata": {},
   "outputs": [],
   "source": [
    "class Hit:\n",
    "    def __init__(self, x=0, y=0, z=0):\n",
    "        self.x = x\n",
    "        self.y = y\n",
    "        self.z = z\n",
    "\n",
    "\n",
    "def print_pretty_solution(solution, geom_df):\n",
    "    print(\"FULL SOLUTION: \\n{}\".format(solution))\n",
    "    print(\"Sum of distances: {}\".format(solution.fun))\n",
    "    print(\"Solution: [\\n\\tx = {}\\n\\ty = {} \\n\\tz = {} \\n\\tdx = {} \\n\\tdy = {} \\n\\tdz = {} ]\".format(\n",
    "        solution.x[0],\n",
    "        solution.x[1],\n",
    "        solution.x[2] - DET_Z_TRANSLATION,\n",
    "        solution.x[3],\n",
    "        solution.x[4],\n",
    "        solution.x[5])\n",
    "    )\n",
    "    print(\"]\")\n",
    "    print(\"Distances from detector lines and hit position\")\n",
    "    print(\"ID\\tDistance from hit line [mm]\\t x [mm]\\t\\ty [mm]\\t\\tz [m]\")\n",
    "\n",
    "    plane_hit = Hit()\n",
    "\n",
    "    for line in LINE_SET:\n",
    "        sol_x, sol_y, sol_z = solution.x[0], solution.x[1], solution.x[2]\n",
    "        sol_dx, sol_dy, sol_dz = solution.x[3], solution.x[4], solution.x[5]\n",
    "        \n",
    "        det_info = geom_df.loc[(geom_df['detId'] == line.det_id)].iloc[0]\n",
    "        det_z = det_info['z']\n",
    "        k = (det_z - (sol_z - DET_Z_TRANSLATION)) / sol_dz\n",
    "\n",
    "        # ile jest rowne z a ile k\n",
    "        # print(\"det_z = {}\\tk = {}\".format(det_z, k))\n",
    "        \n",
    "        plane_hit.x = sol_x + k * sol_dx\n",
    "        plane_hit.y = sol_y + k * sol_dy\n",
    "        plane_hit.z = det_z\n",
    "\n",
    "        print(\"{}\\t{:.5f}\\t\\t\\t\\t({:.5f}\\t{:.5f}\\t{})\".format(line.det_id,\n",
    "                                                              Line(params=solution.x).distance(line),\n",
    "                                                              plane_hit.x,\n",
    "                                                              plane_hit.y,\n",
    "                                                              plane_hit.z))\n",
    "    print(\"\\n\")"
   ]
  },
  {
   "cell_type": "markdown",
   "metadata": {},
   "source": [
    "### Minimization for each rp group where is single-tracking "
   ]
  },
  {
   "cell_type": "code",
   "execution_count": 12,
   "metadata": {
    "scrolled": false
   },
   "outputs": [
    {
     "name": "stdout",
     "output_type": "stream",
     "text": [
      "Row number 0\tDistances sum: 21.1351843523\tSuccess: True\n",
      "Row number 1\tDistances sum: 32.3807189903\tSuccess: False\n",
      "Row number 2\tDistances sum: 10.8754924488\tSuccess: True\n",
      "Row number 3\tDistances sum: 17.6933565541\tSuccess: True\n",
      "Row number 4\tDistances sum: 37.5727955552\tSuccess: True\n",
      "Row number 5\tDistances sum: 15.8594947536\tSuccess: True\n",
      "Row number 6\tDistances sum: 31.5439954133\tSuccess: True\n",
      "Row number 7\tDistances sum: 60.2704673441\tSuccess: True\n",
      "Row number 8\tDistances sum: 30.7992471785\tSuccess: True\n",
      "Row number 9\tDistances sum: 22.2995361863\tSuccess: False\n",
      "Row number 10\tDistances sum: 11.3444431595\tSuccess: True\n",
      "Row number 11\tDistances sum: 15.8776215417\tSuccess: True\n",
      "Row number 12\tDistances sum: 21.2135730429\tSuccess: False\n",
      "Row number 13\tDistances sum: 22.3279955338\tSuccess: True\n",
      "Row number 14\tDistances sum: 22.0693317835\tSuccess: True\n",
      "Row number 15\tDistances sum: 22.3067059822\tSuccess: True\n",
      "Row number 16\tDistances sum: 19.1503271519\tSuccess: False\n",
      "Row number 17\tDistances sum: 22.3114538732\tSuccess: False\n",
      "Row number 18\tDistances sum: 22.0840422329\tSuccess: False\n",
      "Row number 19\tDistances sum: 9.5153980345\tSuccess: True\n",
      "Row number 20\tDistances sum: 15.8779252993\tSuccess: True\n",
      "Row number 21\tDistances sum: 19.7928260947\tSuccess: True\n",
      "Row number 22\tDistances sum: 21.8306260092\tSuccess: True\n",
      "Row number 23\tDistances sum: 17.6681147813\tSuccess: True\n",
      "Row number 24\tDistances sum: 22.7496847397\tSuccess: True\n",
      "Row number 25\tDistances sum: 11.0056418072\tSuccess: True\n",
      "Row number 26\tDistances sum: 15.4972162699\tSuccess: True\n",
      "Row number 27\tDistances sum: 17.6679921368\tSuccess: True\n",
      "Row number 28\tDistances sum: 21.8303303237\tSuccess: True\n",
      "Row number 29\tDistances sum: 19.4495818025\tSuccess: False\n",
      "Row number 30\tDistances sum: 15.8790887921\tSuccess: True\n",
      "Row number 31\tDistances sum: 20.4418902213\tSuccess: True\n",
      "Row number 32\tDistances sum: 37.5728248326\tSuccess: True\n",
      "Row number 33\tDistances sum: 10.936704637\tSuccess: True\n",
      "Row number 34\tDistances sum: 17.667884092\tSuccess: True\n",
      "Row number 35\tDistances sum: 21.8299753696\tSuccess: True\n",
      "Row number 36\tDistances sum: 26.0713820701\tSuccess: False\n",
      "Row number 37\tDistances sum: 29.8310749087\tSuccess: True\n",
      "Row number 38\tDistances sum: 12.6373030731\tSuccess: True\n",
      "Row number 39\tDistances sum: 17.4203306012\tSuccess: True\n",
      "Row number 40\tDistances sum: 17.66823493\tSuccess: True\n",
      "Row number 41\tDistances sum: 13.1008427444\tSuccess: True\n",
      "Row number 42\tDistances sum: 20.6914456912\tSuccess: True\n",
      "Row number 43\tDistances sum: 29.6410324339\tSuccess: True\n",
      "Row number 44\tDistances sum: 30.798058656\tSuccess: True\n",
      "Row number 45\tDistances sum: 26.0546931127\tSuccess: False\n",
      "Row number 46\tDistances sum: 17.6680251702\tSuccess: True\n",
      "Row number 47\tDistances sum: 18.0061861055\tSuccess: False\n",
      "Row number 48\tDistances sum: 10.8990839172\tSuccess: True\n",
      "Row number 49\tDistances sum: 10.9375905103\tSuccess: False\n",
      "Row number 50\tDistances sum: 15.4972299466\tSuccess: True\n",
      "Row number 51\tDistances sum: 19.498811033\tSuccess: True\n",
      "Row number 52\tDistances sum: 17.6679478703\tSuccess: True\n",
      "Row number 53\tDistances sum: 20.8473904008\tSuccess: True\n",
      "Row number 54\tDistances sum: 17.6679776292\tSuccess: True\n",
      "Row number 55\tDistances sum: 23.968212076\tSuccess: True\n",
      "Row number 56\tDistances sum: 15.8972919393\tSuccess: True\n",
      "Row number 57\tDistances sum: 17.6688729253\tSuccess: True\n",
      "Row number 58\tDistances sum: 21.8314362904\tSuccess: True\n",
      "Row number 59\tDistances sum: 30.1852757925\tSuccess: True\n",
      "Row number 60\tDistances sum: 9.51678009026\tSuccess: True\n",
      "Row number 61\tDistances sum: 17.4206353617\tSuccess: True\n",
      "Row number 62\tDistances sum: 19.5102805347\tSuccess: True\n",
      "Row number 63\tDistances sum: 20.8687455457\tSuccess: True\n",
      "Row number 64\tDistances sum: 11.8873505081\tSuccess: True\n",
      "Row number 65\tDistances sum: 48.8687749363\tSuccess: True\n",
      "Row number 66\tDistances sum: 21.8304142482\tSuccess: True\n",
      "Row number 67\tDistances sum: 17.6680007153\tSuccess: True\n",
      "Row number 68\tDistances sum: 20.8653949791\tSuccess: True\n",
      "Row number 69\tDistances sum: 9.51501137383\tSuccess: True\n",
      "Row number 70\tDistances sum: 15.4969175616\tSuccess: True\n",
      "Row number 71\tDistances sum: 25.8770617362\tSuccess: False\n",
      "Row number 72\tDistances sum: 60.2708318318\tSuccess: True\n",
      "Row number 73\tDistances sum: 18.7395171419\tSuccess: True\n",
      "Row number 74\tDistances sum: 17.6685342084\tSuccess: True\n",
      "Row number 75\tDistances sum: 21.8300427186\tSuccess: True\n",
      "Row number 76\tDistances sum: 21.5967545137\tSuccess: True\n",
      "Row number 77\tDistances sum: 37.5727510466\tSuccess: True\n",
      "Row number 78\tDistances sum: 26.4817132707\tSuccess: False\n",
      "Row number 79\tDistances sum: 17.42036721\tSuccess: True\n",
      "Row number 80\tDistances sum: 30.1883559629\tSuccess: True\n",
      "Row number 81\tDistances sum: 31.8710519521\tSuccess: False\n",
      "Row number 82\tDistances sum: 17.8161833007\tSuccess: True\n",
      "Row number 83\tDistances sum: 21.8300284165\tSuccess: True\n",
      "Row number 84\tDistances sum: 10.8873813053\tSuccess: True\n",
      "Row number 85\tDistances sum: 58.0264215284\tSuccess: True\n",
      "Row number 86\tDistances sum: 17.6680988152\tSuccess: True\n",
      "Row number 87\tDistances sum: 37.572824858\tSuccess: True\n",
      "Row number 88\tDistances sum: 26.4499518656\tSuccess: False\n",
      "Row number 89\tDistances sum: 23.4981907537\tSuccess: False\n",
      "Row number 90\tDistances sum: 30.1478472261\tSuccess: True\n",
      "Row number 91\tDistances sum: 60.2098402046\tSuccess: True\n",
      "Row number 92\tDistances sum: 30.1654151086\tSuccess: True\n",
      "Row number 93\tDistances sum: 15.4970784933\tSuccess: True\n",
      "Row number 94\tDistances sum: 30.8262593476\tSuccess: True\n",
      "Row number 95\tDistances sum: 10.9391478791\tSuccess: True\n",
      "Row number 96\tDistances sum: 60.2702735475\tSuccess: True\n",
      "Row number 97\tDistances sum: 12.888400679\tSuccess: False\n",
      "Row number 98\tDistances sum: 18.7452822146\tSuccess: False\n",
      "Row number 99\tDistances sum: 60.2104029464\tSuccess: True\n",
      "Row number 100\tDistances sum: 11.6657577147\tSuccess: False\n",
      "Row number 101\tDistances sum: 60.2104025125\tSuccess: True\n",
      "Row number 102\tDistances sum: 11.6069083064\tSuccess: True\n",
      "Row number 103\tDistances sum: 10.505967675\tSuccess: True\n",
      "Row number 104\tDistances sum: 17.6731553046\tSuccess: True\n",
      "Row number 105\tDistances sum: 21.8392345477\tSuccess: True\n",
      "Row number 106\tDistances sum: 21.8181813735\tSuccess: True\n",
      "Row number 107\tDistances sum: 42.562340776\tSuccess: True\n",
      "Row number 108\tDistances sum: 22.0651713628\tSuccess: False\n",
      "Row number 109\tDistances sum: 15.8530425575\tSuccess: True\n",
      "Row number 110\tDistances sum: 19.8144002311\tSuccess: True\n",
      "Row number 111\tDistances sum: 21.8300420552\tSuccess: True\n",
      "Row number 112\tDistances sum: 15.4986960583\tSuccess: True\n",
      "Row number 113\tDistances sum: 26.2361283402\tSuccess: True\n",
      "Row number 114\tDistances sum: 42.2370888272\tSuccess: True\n",
      "Row number 115\tDistances sum: 7.64362076524\tSuccess: True\n",
      "Row number 116\tDistances sum: 30.4800870014\tSuccess: True\n",
      "Row number 117\tDistances sum: 20.8648993151\tSuccess: True\n",
      "Row number 118\tDistances sum: 18.9872030757\tSuccess: False\n",
      "Row number 119\tDistances sum: 15.884186881\tSuccess: True\n",
      "Row number 120\tDistances sum: 17.6567503433\tSuccess: True\n",
      "Row number 121\tDistances sum: 35.9823109745\tSuccess: True\n",
      "Row number 122\tDistances sum: 17.7246066373\tSuccess: False\n",
      "Row number 123\tDistances sum: 10.1598903691\tSuccess: True\n",
      "Row number 124\tDistances sum: 60.2114171675\tSuccess: True\n",
      "Row number 125\tDistances sum: 60.2114158616\tSuccess: True\n",
      "Row number 126\tDistances sum: 17.6682410981\tSuccess: True\n",
      "Row number 127\tDistances sum: 17.668210893\tSuccess: True\n",
      "Row number 128\tDistances sum: 10.9007017708\tSuccess: True\n",
      "Row number 129\tDistances sum: 27.2107044989\tSuccess: False\n",
      "Row number 130\tDistances sum: 17.6682335087\tSuccess: True\n",
      "Row number 131\tDistances sum: 17.6699243201\tSuccess: True\n",
      "Row number 132\tDistances sum: 21.8196742278\tSuccess: True\n",
      "Row number 133\tDistances sum: 17.6680745902\tSuccess: True\n",
      "Row number 134\tDistances sum: 21.8300026006\tSuccess: True\n",
      "Row number 135\tDistances sum: 17.668199115\tSuccess: True\n",
      "Row number 136\tDistances sum: 22.749344909\tSuccess: True\n",
      "Row number 137\tDistances sum: 17.6682239009\tSuccess: True\n",
      "Row number 138\tDistances sum: 18.4520218627\tSuccess: True\n",
      "Row number 139\tDistances sum: 24.0343730155\tSuccess: True\n",
      "Row number 140\tDistances sum: 21.8300768595\tSuccess: True\n",
      "Row number 141\tDistances sum: 17.6687604389\tSuccess: True\n",
      "Row number 142\tDistances sum: 19.7994546403\tSuccess: True\n",
      "Row number 143\tDistances sum: 30.6247363794\tSuccess: False\n"
     ]
    },
    {
     "name": "stdout",
     "output_type": "stream",
     "text": [
      "Row number 144\tDistances sum: 17.6679151107\tSuccess: True\n",
      "Row number 145\tDistances sum: 21.9472976659\tSuccess: False\n",
      "Row number 146\tDistances sum: 11.1487001222\tSuccess: True\n",
      "Row number 147\tDistances sum: 22.751356573\tSuccess: True\n",
      "Row number 148\tDistances sum: 17.6679274958\tSuccess: True\n",
      "Row number 149\tDistances sum: 37.5728196921\tSuccess: True\n",
      "Row number 150\tDistances sum: 17.6682486471\tSuccess: True\n",
      "Row number 151\tDistances sum: 21.8300329609\tSuccess: True\n",
      "Row number 152\tDistances sum: 26.8259335298\tSuccess: True\n",
      "Row number 153\tDistances sum: 22.0977245132\tSuccess: True\n",
      "Row number 154\tDistances sum: 27.2695495971\tSuccess: True\n",
      "Row number 155\tDistances sum: 15.4972575782\tSuccess: True\n",
      "THE END\n"
     ]
    }
   ],
   "source": [
    "# REQUIRED BY MY CHI2 FUNCTION\n",
    "LINE_SET = []\n",
    "\n",
    "# OBJECTIVE FUNCTION\n",
    "def chi2(params):\n",
    "    # TO DO: make it real chi2\n",
    "    line = Line(params=params)                                  # CREATING FITTED LINE FROM PARAMS\n",
    "    return np.sum([line.distance(other) for other in LINE_SET]) # SUM OF DISTANCES\n",
    "\n",
    "\n",
    "def get_constraints():\n",
    "    # CONSTRAINTS\n",
    "    def constraint1(params):\n",
    "        return 1.0 - np.sum([dir**2 for dir in params[3:]]) # dx^2 + dy^2 + dz^2 = 1\n",
    "\n",
    "    con1 = {'type': 'eq', 'fun':constraint1}\n",
    "    return [con1]\n",
    "\n",
    "\n",
    "def get_bounds():\n",
    "    # BOUND FOR PARAMETERS\n",
    "    b_x   = (   -50.0,    50.0)\n",
    "    b_y   = (   -50.0,    50.0)\n",
    "    b_z   = (-20000.0, 20000.0)\n",
    "    b_dir = (    -1.0,     1.0)\n",
    "    return (b_x, b_y, b_z, b_dir, b_dir, b_dir)\n",
    "\n",
    "\n",
    "# FOR EACH EVENT AND GROUP CALCULATE LINE\n",
    "row_number = 0\n",
    "\n",
    "group_distances = {\n",
    "    1 : [],\n",
    "    2 : [],\n",
    "    3 : [],\n",
    "    4 : [],\n",
    "    5 : [],\n",
    "    6 : []\n",
    "}\n",
    "\n",
    "# soo there is an error, and an error is big... we want to know to which lines is it related\n",
    "def get_x0(first_hit_info, geom_df):\n",
    "    \n",
    "    det_id   = first_hit_info['rpID'] * 10 + first_hit_info['siliconID'] \n",
    "    det_info = geom_df.loc[(geom_df['detId'] == det_id)].iloc[0]\n",
    "    \n",
    "    det_x = det_info['x']\n",
    "    det_y = det_info['y']\n",
    "    det_z = det_info['z'] * 1000 + DET_Z_TRANSLATION \n",
    "    \n",
    "    return [det_x, det_y, det_z, 0.0, 0.0, np.sign(det_z)]\n",
    "\n",
    "\n",
    "for index, row in single_groups_df.iterrows():\n",
    "    # GETTING HITS FOR SPECIFIED GROUP AND EVENT\n",
    "    eventID, groupID = row['eventID'], row['groupID']\n",
    "    single_hits_df = single_df.loc[(single_df['eventID'] == eventID) & (single_df['groupID'] == groupID)]\n",
    "    \n",
    "    # APPLYING Z TRANSLATION --> WE DO NOT WANT SUCH BIG NUMBERS (|Z| ~ 210 000 [mm])\n",
    "    if groupID > 3:\n",
    "        DET_Z_TRANSLATION = -210000\n",
    "    else:\n",
    "        DET_Z_TRANSLATION = 210000\n",
    "    \n",
    "    LINE_SET = get_hit_lines(single_hits_df, geom_df)    \n",
    "    \n",
    "    # SEED SOLUTION - CENTER OF FIRST PLANE [x, y, z] AND DIRECTION ALONG THE BEAM [0, 0, [+|-] 1] \n",
    "    x0 = get_x0(single_hits_df.iloc[0], geom_df)    \n",
    "    solution = minimize(chi2, x0, method='SLSQP', constraints=get_constraints(), bounds=get_bounds())\n",
    "        \n",
    "    print(\"Row number {}\\tDistances sum: {}\\tSuccess: {}\".format(row_number, solution.fun, solution.success))\n",
    "    # print_pretty_solution(solution, geom_df)\n",
    "    row_number = row_number + 1\n",
    "\n",
    "\n",
    "print(\"THE END\")\n"
   ]
  },
  {
   "cell_type": "markdown",
   "metadata": {},
   "source": [
    "#### left bottom (RP IDs: 25, 21, 5)"
   ]
  },
  {
   "cell_type": "code",
   "execution_count": 10,
   "metadata": {
    "collapsed": true
   },
   "outputs": [],
   "source": [
    "left_bottom_df = df_all.loc[(df_all['groupId'] == 2) & (df_all['arm'] == 0) & (df_all['uLinesSize'] > 1) & (df_all['vLinesSize'] > 1)]\n",
    "left_bottom = left_bottom_df.drop_duplicates(subset=['recoId','eventId'], keep=\"first\").shape[0]"
   ]
  },
  {
   "cell_type": "markdown",
   "metadata": {},
   "source": [
    "#### left horizontal (RP IDs: 23, 22, 3)"
   ]
  },
  {
   "cell_type": "code",
   "execution_count": 11,
   "metadata": {},
   "outputs": [
    {
     "data": {
      "text/plain": [
       "16389"
      ]
     },
     "execution_count": 11,
     "metadata": {},
     "output_type": "execute_result"
    }
   ],
   "source": [
    "left_horizontal_df = df_all.loc[(df_all['groupId'] == 3) & (df_all['arm'] == 0) & (df_all['uLinesSize'] > 1) & (df_all['vLinesSize'] > 1)]\n",
    "left_horizontal = left_horizontal_df.drop_duplicates(subset=['recoId','eventId'], keep=\"first\").shape[0]\n",
    "left_horizontal"
   ]
  },
  {
   "cell_type": "markdown",
   "metadata": {},
   "source": [
    "#### right top (RP IDs: 104, 120, 124)"
   ]
  },
  {
   "cell_type": "code",
   "execution_count": 12,
   "metadata": {},
   "outputs": [
    {
     "data": {
      "text/plain": [
       "25054"
      ]
     },
     "execution_count": 12,
     "metadata": {},
     "output_type": "execute_result"
    }
   ],
   "source": [
    "right_top_df = df_all.loc[(df_all['groupId'] == 1) & (df_all['arm'] == 1) & (df_all['uLinesSize'] > 1) & (df_all['vLinesSize'] > 1)]\n",
    "right_top = right_top_df.drop_duplicates(subset=['recoId','eventId'], keep=\"first\").shape[0]\n",
    "right_top"
   ]
  },
  {
   "cell_type": "markdown",
   "metadata": {},
   "source": [
    "#### right bottom (RP IDs: 105, 121, 125)"
   ]
  },
  {
   "cell_type": "code",
   "execution_count": 13,
   "metadata": {},
   "outputs": [
    {
     "data": {
      "text/plain": [
       "24439"
      ]
     },
     "execution_count": 13,
     "metadata": {},
     "output_type": "execute_result"
    }
   ],
   "source": [
    "right_bottom_df = df_all.loc[(df_all['groupId'] == 2) & (df_all['arm'] == 1) & (df_all['uLinesSize'] > 1) & (df_all['vLinesSize'] > 1)]\n",
    "right_bottom = right_bottom_df.drop_duplicates(subset=['recoId','eventId'], keep=\"first\").shape[0]\n",
    "right_bottom"
   ]
  },
  {
   "cell_type": "markdown",
   "metadata": {},
   "source": [
    "#### right horizontal (RP IDs: 103, 122, 123)"
   ]
  },
  {
   "cell_type": "code",
   "execution_count": 14,
   "metadata": {},
   "outputs": [
    {
     "data": {
      "text/plain": [
       "16092"
      ]
     },
     "execution_count": 14,
     "metadata": {},
     "output_type": "execute_result"
    }
   ],
   "source": [
    "right_horizontal_df = df_all.loc[(df_all['groupId'] == 3) & (df_all['arm'] == 1) & (df_all['uLinesSize'] > 1) & (df_all['vLinesSize'] > 1)]\n",
    "right_horizontal = right_horizontal_df.drop_duplicates(subset=['recoId','eventId'], keep=\"first\").shape[0]\n",
    "right_horizontal"
   ]
  },
  {
   "cell_type": "markdown",
   "metadata": {},
   "source": [
    "## Plot number of events in each group"
   ]
  },
  {
   "cell_type": "code",
   "execution_count": 15,
   "metadata": {},
   "outputs": [
    {
     "data": {
      "text/plain": [
       "[23726, 16389, 23989]"
      ]
     },
     "execution_count": 15,
     "metadata": {},
     "output_type": "execute_result"
    }
   ],
   "source": [
    "events_no_in_left = [left_top, left_horizontal, left_bottom]\n",
    "events_no_in_left"
   ]
  },
  {
   "cell_type": "code",
   "execution_count": 16,
   "metadata": {},
   "outputs": [
    {
     "data": {
      "text/plain": [
       "[25054, 16092, 24439]"
      ]
     },
     "execution_count": 16,
     "metadata": {},
     "output_type": "execute_result"
    }
   ],
   "source": [
    "events_no_in_right = [right_top, right_horizontal, right_bottom]\n",
    "events_no_in_right"
   ]
  },
  {
   "cell_type": "code",
   "execution_count": 17,
   "metadata": {
    "collapsed": true
   },
   "outputs": [],
   "source": [
    "# draw bar chart\n",
    "def gen_plot_for_arm(events_no, title, file_name):\n",
    "    objects = ('top', 'horizontal', 'bottom')\n",
    "    y_pos = np.arange(len(objects))\n",
    "    \n",
    "    plt.bar(y_pos, events_no, align='center', alpha=0.5)\n",
    "    plt.xticks(y_pos, objects)\n",
    "    plt.ylabel('Number of events')\n",
    "    plt.title(title)\n",
    "    \n",
    "    plt.savefig(file_name)\n",
    "    plt.show()"
   ]
  },
  {
   "cell_type": "markdown",
   "metadata": {},
   "source": [
    "### Number of events with multi-track in left arm\n",
    "#### number of all events (single and multi): 1 000 000"
   ]
  },
  {
   "cell_type": "code",
   "execution_count": 18,
   "metadata": {},
   "outputs": [
    {
     "data": {
      "image/png": "[encoded data removed]",
      "text/plain": [
       "<matplotlib.figure.Figure at 0x7f83877f00d0>"
      ]
     },
     "metadata": {},
     "output_type": "display_data"
    }
   ],
   "source": [
    "# left_top, left_horizontal, left_bottom\n",
    "\n",
    "gen_plot_for_arm(events_no_in_left, 'Number of multi-track events in left arm', 'left_arm_plot_100_104.png')\n"
   ]
  },
  {
   "cell_type": "markdown",
   "metadata": {},
   "source": [
    "### Number of events with multi-track in right arm\n",
    "#### number of all events (single and multi): 1 000 000"
   ]
  },
  {
   "cell_type": "code",
   "execution_count": 19,
   "metadata": {},
   "outputs": [
    {
     "data": {
      "image/png": "[encoded data removed]",
      "text/plain": [
       "<matplotlib.figure.Figure at 0x7f8387093f10>"
      ]
     },
     "metadata": {},
     "output_type": "display_data"
    }
   ],
   "source": [
    "# right_top, right_horizontal, right_bottom\n",
    "\n",
    "gen_plot_for_arm(events_no_in_right, 'Number of multi-track events in right arm', 'right_arm_plot_100_104.png')"
   ]
  },
  {
   "cell_type": "code",
   "execution_count": null,
   "metadata": {
    "collapsed": true
   },
   "outputs": [],
   "source": []
  },
  {
   "cell_type": "code",
   "execution_count": null,
   "metadata": {
    "collapsed": true
   },
   "outputs": [],
   "source": []
  }
 ],
 "metadata": {
  "kernelspec": {
   "display_name": "Python 2",
   "language": "python",
   "name": "python2"
  },
  "language_info": {
   "codemirror_mode": {
    "name": "ipython",
    "version": 2
   },
   "file_extension": ".py",
   "mimetype": "text/x-python",
   "name": "python",
   "nbconvert_exporter": "python",
   "pygments_lexer": "ipython2",
   "version": "2.7.13"
  }
 },
 "nbformat": 4,
 "nbformat_minor": 2
}